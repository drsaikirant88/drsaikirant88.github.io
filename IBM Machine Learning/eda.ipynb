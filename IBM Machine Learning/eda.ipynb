{
 "cells": [
  {
   "cell_type": "markdown",
   "id": "4eee7837-350d-4da4-b6f0-113b3429e54a",
   "metadata": {},
   "source": [
    "# Exploratory Data Analysis - Titanic Dataset\n",
    "\n",
    "Exploratory data analysis is probably the most important component of any science. While exploring datasets for this assignment, I stumbled upon the Titanic Dataset. I lived in Southampton, UK and worked at a research facility that was housed just next to the berth from where Titanic set sail on April 10, 1912. This data presents both a nostalgia and inspiration to learn, and draw statistical inferences about an amazing ship and its passengers."
   ]
  },
  {
   "cell_type": "code",
   "execution_count": 1,
   "id": "f637f310-55f6-4933-b7ec-e65a787b3f3b",
   "metadata": {},
   "outputs": [],
   "source": [
    "# Import libraries required for analysis\n",
    "import numpy as np\n",
    "import pandas as pd\n",
    "import seaborn as sns\n",
    "import matplotlib.pyplot as plt\n",
    "from scipy import stats\n",
    "from sklearn.preprocessing import (LabelEncoder, OneHotEncoder)"
   ]
  },
  {
   "cell_type": "code",
   "execution_count": 2,
   "id": "de3ecc17-b430-4e12-a750-643a4cd49269",
   "metadata": {},
   "outputs": [
    {
     "name": "stdout",
     "output_type": "stream",
     "text": [
      "<class 'pandas.core.frame.DataFrame'>\n",
      "RangeIndex: 891 entries, 0 to 890\n",
      "Data columns (total 12 columns):\n",
      " #   Column       Non-Null Count  Dtype  \n",
      "---  ------       --------------  -----  \n",
      " 0   PassengerId  891 non-null    int64  \n",
      " 1   Survived     891 non-null    int64  \n",
      " 2   Pclass       891 non-null    int64  \n",
      " 3   Name         891 non-null    object \n",
      " 4   Sex          891 non-null    object \n",
      " 5   Age          714 non-null    float64\n",
      " 6   SibSp        891 non-null    int64  \n",
      " 7   Parch        891 non-null    int64  \n",
      " 8   Ticket       891 non-null    object \n",
      " 9   Fare         891 non-null    float64\n",
      " 10  Cabin        204 non-null    object \n",
      " 11  Embarked     889 non-null    object \n",
      "dtypes: float64(2), int64(5), object(5)\n",
      "memory usage: 83.7+ KB\n"
     ]
    }
   ],
   "source": [
    "# Reading titanic dataset\n",
    "data = pd.read_csv('titanic-data.csv', header=0)\n",
    "data.info()"
   ]
  },
  {
   "cell_type": "code",
   "execution_count": 3,
   "id": "bf1bc471-f860-4956-97b2-34953998e6db",
   "metadata": {},
   "outputs": [
    {
     "data": {
      "text/html": [
       "<div>\n",
       "<style scoped>\n",
       "    .dataframe tbody tr th:only-of-type {\n",
       "        vertical-align: middle;\n",
       "    }\n",
       "\n",
       "    .dataframe tbody tr th {\n",
       "        vertical-align: top;\n",
       "    }\n",
       "\n",
       "    .dataframe thead th {\n",
       "        text-align: right;\n",
       "    }\n",
       "</style>\n",
       "<table border=\"1\" class=\"dataframe\">\n",
       "  <thead>\n",
       "    <tr style=\"text-align: right;\">\n",
       "      <th></th>\n",
       "      <th>PassengerId</th>\n",
       "      <th>Survived</th>\n",
       "      <th>Pclass</th>\n",
       "      <th>Name</th>\n",
       "      <th>Sex</th>\n",
       "      <th>Age</th>\n",
       "      <th>SibSp</th>\n",
       "      <th>Parch</th>\n",
       "      <th>Ticket</th>\n",
       "      <th>Fare</th>\n",
       "      <th>Cabin</th>\n",
       "      <th>Embarked</th>\n",
       "    </tr>\n",
       "  </thead>\n",
       "  <tbody>\n",
       "    <tr>\n",
       "      <th>0</th>\n",
       "      <td>1</td>\n",
       "      <td>0</td>\n",
       "      <td>3</td>\n",
       "      <td>Braund, Mr. Owen Harris</td>\n",
       "      <td>male</td>\n",
       "      <td>22.0</td>\n",
       "      <td>1</td>\n",
       "      <td>0</td>\n",
       "      <td>A/5 21171</td>\n",
       "      <td>7.2500</td>\n",
       "      <td>NaN</td>\n",
       "      <td>S</td>\n",
       "    </tr>\n",
       "    <tr>\n",
       "      <th>1</th>\n",
       "      <td>2</td>\n",
       "      <td>1</td>\n",
       "      <td>1</td>\n",
       "      <td>Cumings, Mrs. John Bradley (Florence Briggs Th...</td>\n",
       "      <td>female</td>\n",
       "      <td>38.0</td>\n",
       "      <td>1</td>\n",
       "      <td>0</td>\n",
       "      <td>PC 17599</td>\n",
       "      <td>71.2833</td>\n",
       "      <td>C85</td>\n",
       "      <td>C</td>\n",
       "    </tr>\n",
       "    <tr>\n",
       "      <th>2</th>\n",
       "      <td>3</td>\n",
       "      <td>1</td>\n",
       "      <td>3</td>\n",
       "      <td>Heikkinen, Miss. Laina</td>\n",
       "      <td>female</td>\n",
       "      <td>26.0</td>\n",
       "      <td>0</td>\n",
       "      <td>0</td>\n",
       "      <td>STON/O2. 3101282</td>\n",
       "      <td>7.9250</td>\n",
       "      <td>NaN</td>\n",
       "      <td>S</td>\n",
       "    </tr>\n",
       "    <tr>\n",
       "      <th>3</th>\n",
       "      <td>4</td>\n",
       "      <td>1</td>\n",
       "      <td>1</td>\n",
       "      <td>Futrelle, Mrs. Jacques Heath (Lily May Peel)</td>\n",
       "      <td>female</td>\n",
       "      <td>35.0</td>\n",
       "      <td>1</td>\n",
       "      <td>0</td>\n",
       "      <td>113803</td>\n",
       "      <td>53.1000</td>\n",
       "      <td>C123</td>\n",
       "      <td>S</td>\n",
       "    </tr>\n",
       "    <tr>\n",
       "      <th>4</th>\n",
       "      <td>5</td>\n",
       "      <td>0</td>\n",
       "      <td>3</td>\n",
       "      <td>Allen, Mr. William Henry</td>\n",
       "      <td>male</td>\n",
       "      <td>35.0</td>\n",
       "      <td>0</td>\n",
       "      <td>0</td>\n",
       "      <td>373450</td>\n",
       "      <td>8.0500</td>\n",
       "      <td>NaN</td>\n",
       "      <td>S</td>\n",
       "    </tr>\n",
       "  </tbody>\n",
       "</table>\n",
       "</div>"
      ],
      "text/plain": [
       "   PassengerId  Survived  Pclass  \\\n",
       "0            1         0       3   \n",
       "1            2         1       1   \n",
       "2            3         1       3   \n",
       "3            4         1       1   \n",
       "4            5         0       3   \n",
       "\n",
       "                                                Name     Sex   Age  SibSp  \\\n",
       "0                            Braund, Mr. Owen Harris    male  22.0      1   \n",
       "1  Cumings, Mrs. John Bradley (Florence Briggs Th...  female  38.0      1   \n",
       "2                             Heikkinen, Miss. Laina  female  26.0      0   \n",
       "3       Futrelle, Mrs. Jacques Heath (Lily May Peel)  female  35.0      1   \n",
       "4                           Allen, Mr. William Henry    male  35.0      0   \n",
       "\n",
       "   Parch            Ticket     Fare Cabin Embarked  \n",
       "0      0         A/5 21171   7.2500   NaN        S  \n",
       "1      0          PC 17599  71.2833   C85        C  \n",
       "2      0  STON/O2. 3101282   7.9250   NaN        S  \n",
       "3      0            113803  53.1000  C123        S  \n",
       "4      0            373450   8.0500   NaN        S  "
      ]
     },
     "execution_count": 3,
     "metadata": {},
     "output_type": "execute_result"
    }
   ],
   "source": [
    "data.head()"
   ]
  },
  {
   "cell_type": "code",
   "execution_count": 4,
   "id": "64fdcb07-29d4-45e8-89ca-06a994da6256",
   "metadata": {},
   "outputs": [
    {
     "data": {
      "text/plain": [
       "PassengerId      0\n",
       "Survived         0\n",
       "Pclass           0\n",
       "Name             0\n",
       "Sex              0\n",
       "Age            177\n",
       "SibSp            0\n",
       "Parch            0\n",
       "Ticket           0\n",
       "Fare             0\n",
       "Cabin          687\n",
       "Embarked         2\n",
       "dtype: int64"
      ]
     },
     "execution_count": 4,
     "metadata": {},
     "output_type": "execute_result"
    }
   ],
   "source": [
    "data.isnull().sum()"
   ]
  },
  {
   "cell_type": "markdown",
   "id": "34af283f-3dec-4cbf-89ad-3d46ab820f68",
   "metadata": {},
   "source": [
    "## Dataset\n",
    "Titanic dataset is available as a CSV file with 891 entries across 12 features. Each of the features describe:\n",
    "<br>Passenger ID - numerical value showing sequence number of entry\n",
    "<br>Survived - Status of passenger survival (0 = No; 1 = Yes)\n",
    "<br>Pclass   - Passenger class (1 = 1st; 2 = 2nd; 3 = 3rd)\n",
    "<br>Name     - Name of passenger\n",
    "<br>Sex      - Sex\n",
    "<br>Age      - Age\n",
    "<br>SibSp    - Number of siblings / Spouses aboard\n",
    "<br>Parch    - Number of Parents / Children aboard\n",
    "<br>Ticket   - Ticket number\n",
    "<br>Fare     - Passenger fare in GBP (British pound)\n",
    "<br>Cabin    - Cabin\n",
    "<br>Embarked - Port of embarkation (C - Cherbourg, Q - Queenstown, S - Southampton)\n",
    "<br>\n",
    "<br> Data types in the dataset includes two float64 features, five int64 features, and five object features\n",
    "<br> The non-null counts show that the data is mostly complete with 3 exceptions: Age is missing 105 entries/observations, Cabin is missing 204 entries, and Embarked is missing 2 entries\n",
    "\n",
    "## Initial Exploration"
   ]
  },
  {
   "cell_type": "code",
   "execution_count": 5,
   "id": "b73b2052-bb00-49fb-8042-3df172128a79",
   "metadata": {},
   "outputs": [
    {
     "data": {
      "text/plain": [
       "<AxesSubplot:xlabel='Survived', ylabel='count'>"
      ]
     },
     "execution_count": 5,
     "metadata": {},
     "output_type": "execute_result"
    },
    {
     "data": {
      "image/png": "[encoded data removed]",
      "text/plain": [
       "<Figure size 432x288 with 1 Axes>"
      ]
     },
     "metadata": {
      "needs_background": "light"
     },
     "output_type": "display_data"
    }
   ],
   "source": [
    "# Check range of Survived\n",
    "sns.countplot(x='Survived', data=data)"
   ]
  },
  {
   "cell_type": "code",
   "execution_count": 6,
   "id": "c9f2ba51-e1af-4b60-af21-19e8d30275b4",
   "metadata": {},
   "outputs": [
    {
     "data": {
      "text/html": [
       "<div>\n",
       "<style scoped>\n",
       "    .dataframe tbody tr th:only-of-type {\n",
       "        vertical-align: middle;\n",
       "    }\n",
       "\n",
       "    .dataframe tbody tr th {\n",
       "        vertical-align: top;\n",
       "    }\n",
       "\n",
       "    .dataframe thead th {\n",
       "        text-align: right;\n",
       "    }\n",
       "</style>\n",
       "<table border=\"1\" class=\"dataframe\">\n",
       "  <thead>\n",
       "    <tr style=\"text-align: right;\">\n",
       "      <th></th>\n",
       "      <th>PassengerId</th>\n",
       "      <th>Survived</th>\n",
       "      <th>Pclass</th>\n",
       "      <th>Age</th>\n",
       "      <th>SibSp</th>\n",
       "      <th>Parch</th>\n",
       "      <th>Fare</th>\n",
       "    </tr>\n",
       "  </thead>\n",
       "  <tbody>\n",
       "    <tr>\n",
       "      <th>count</th>\n",
       "      <td>891.000000</td>\n",
       "      <td>891.000000</td>\n",
       "      <td>891.000000</td>\n",
       "      <td>714.000000</td>\n",
       "      <td>891.000000</td>\n",
       "      <td>891.000000</td>\n",
       "      <td>891.000000</td>\n",
       "    </tr>\n",
       "    <tr>\n",
       "      <th>mean</th>\n",
       "      <td>446.000000</td>\n",
       "      <td>0.383838</td>\n",
       "      <td>2.308642</td>\n",
       "      <td>29.699118</td>\n",
       "      <td>0.523008</td>\n",
       "      <td>0.381594</td>\n",
       "      <td>32.204208</td>\n",
       "    </tr>\n",
       "    <tr>\n",
       "      <th>std</th>\n",
       "      <td>257.353842</td>\n",
       "      <td>0.486592</td>\n",
       "      <td>0.836071</td>\n",
       "      <td>14.526497</td>\n",
       "      <td>1.102743</td>\n",
       "      <td>0.806057</td>\n",
       "      <td>49.693429</td>\n",
       "    </tr>\n",
       "    <tr>\n",
       "      <th>min</th>\n",
       "      <td>1.000000</td>\n",
       "      <td>0.000000</td>\n",
       "      <td>1.000000</td>\n",
       "      <td>0.420000</td>\n",
       "      <td>0.000000</td>\n",
       "      <td>0.000000</td>\n",
       "      <td>0.000000</td>\n",
       "    </tr>\n",
       "    <tr>\n",
       "      <th>25%</th>\n",
       "      <td>223.500000</td>\n",
       "      <td>0.000000</td>\n",
       "      <td>2.000000</td>\n",
       "      <td>20.125000</td>\n",
       "      <td>0.000000</td>\n",
       "      <td>0.000000</td>\n",
       "      <td>7.910400</td>\n",
       "    </tr>\n",
       "    <tr>\n",
       "      <th>50%</th>\n",
       "      <td>446.000000</td>\n",
       "      <td>0.000000</td>\n",
       "      <td>3.000000</td>\n",
       "      <td>28.000000</td>\n",
       "      <td>0.000000</td>\n",
       "      <td>0.000000</td>\n",
       "      <td>14.454200</td>\n",
       "    </tr>\n",
       "    <tr>\n",
       "      <th>75%</th>\n",
       "      <td>668.500000</td>\n",
       "      <td>1.000000</td>\n",
       "      <td>3.000000</td>\n",
       "      <td>38.000000</td>\n",
       "      <td>1.000000</td>\n",
       "      <td>0.000000</td>\n",
       "      <td>31.000000</td>\n",
       "    </tr>\n",
       "    <tr>\n",
       "      <th>max</th>\n",
       "      <td>891.000000</td>\n",
       "      <td>1.000000</td>\n",
       "      <td>3.000000</td>\n",
       "      <td>80.000000</td>\n",
       "      <td>8.000000</td>\n",
       "      <td>6.000000</td>\n",
       "      <td>512.329200</td>\n",
       "    </tr>\n",
       "  </tbody>\n",
       "</table>\n",
       "</div>"
      ],
      "text/plain": [
       "       PassengerId    Survived      Pclass         Age       SibSp  \\\n",
       "count   891.000000  891.000000  891.000000  714.000000  891.000000   \n",
       "mean    446.000000    0.383838    2.308642   29.699118    0.523008   \n",
       "std     257.353842    0.486592    0.836071   14.526497    1.102743   \n",
       "min       1.000000    0.000000    1.000000    0.420000    0.000000   \n",
       "25%     223.500000    0.000000    2.000000   20.125000    0.000000   \n",
       "50%     446.000000    0.000000    3.000000   28.000000    0.000000   \n",
       "75%     668.500000    1.000000    3.000000   38.000000    1.000000   \n",
       "max     891.000000    1.000000    3.000000   80.000000    8.000000   \n",
       "\n",
       "            Parch        Fare  \n",
       "count  891.000000  891.000000  \n",
       "mean     0.381594   32.204208  \n",
       "std      0.806057   49.693429  \n",
       "min      0.000000    0.000000  \n",
       "25%      0.000000    7.910400  \n",
       "50%      0.000000   14.454200  \n",
       "75%      0.000000   31.000000  \n",
       "max      6.000000  512.329200  "
      ]
     },
     "execution_count": 6,
     "metadata": {},
     "output_type": "execute_result"
    }
   ],
   "source": [
    "# Get stats for all numeric data\n",
    "data.describe()"
   ]
  },
  {
   "cell_type": "markdown",
   "id": "77301d04-372e-4052-b345-49626e44d2ec",
   "metadata": {},
   "source": [
    "The idea behind using this dataset is to explore the possibility of predicting the survivability of a passenger given the other parameters. In this context this will be the target for a machine learning model. Since this will be the target, the first step was to check the range of values of Survived. This field can only take binary values (yes or no). The countplot indeed shows this to be true.\n",
    "<br>\n",
    "<br> Other observations:\n",
    "<br> PassengerID is just a numerical value in the range of 1 to 891\n",
    "<br> Passenger Class is also within the range of the data\n",
    "<br> Data includes a range of people from toddlers (min age 0.42) and older passengers (max 80). This suggests that the data is representative of the entire range and would be a valuable tool.\n",
    "<br>\n",
    "<br> After basic stats of numeric data, the next step is to convert objects to numeric values so it can be used in modeling, investigate features that may or may not be relevant for modeling, feature engineering including ideas for investigating data with null values, clean the data, and scale data for modeling\n",
    "\n",
    "## Feature Engineering and Data Cleaning\n",
    "### Initial Clean"
   ]
  },
  {
   "cell_type": "code",
   "execution_count": 7,
   "id": "0b103b36-f2ed-4499-ae39-3e9284986a8d",
   "metadata": {},
   "outputs": [
    {
     "data": {
      "text/html": [
       "<div>\n",
       "<style scoped>\n",
       "    .dataframe tbody tr th:only-of-type {\n",
       "        vertical-align: middle;\n",
       "    }\n",
       "\n",
       "    .dataframe tbody tr th {\n",
       "        vertical-align: top;\n",
       "    }\n",
       "\n",
       "    .dataframe thead th {\n",
       "        text-align: right;\n",
       "    }\n",
       "</style>\n",
       "<table border=\"1\" class=\"dataframe\">\n",
       "  <thead>\n",
       "    <tr style=\"text-align: right;\">\n",
       "      <th></th>\n",
       "      <th>Survived</th>\n",
       "      <th>Pclass</th>\n",
       "      <th>Sex</th>\n",
       "      <th>Age</th>\n",
       "      <th>SibSp</th>\n",
       "      <th>Parch</th>\n",
       "      <th>Fare</th>\n",
       "      <th>Embarked</th>\n",
       "    </tr>\n",
       "  </thead>\n",
       "  <tbody>\n",
       "    <tr>\n",
       "      <th>0</th>\n",
       "      <td>0</td>\n",
       "      <td>3</td>\n",
       "      <td>male</td>\n",
       "      <td>22.0</td>\n",
       "      <td>1</td>\n",
       "      <td>0</td>\n",
       "      <td>7.2500</td>\n",
       "      <td>S</td>\n",
       "    </tr>\n",
       "    <tr>\n",
       "      <th>1</th>\n",
       "      <td>1</td>\n",
       "      <td>1</td>\n",
       "      <td>female</td>\n",
       "      <td>38.0</td>\n",
       "      <td>1</td>\n",
       "      <td>0</td>\n",
       "      <td>71.2833</td>\n",
       "      <td>C</td>\n",
       "    </tr>\n",
       "    <tr>\n",
       "      <th>2</th>\n",
       "      <td>1</td>\n",
       "      <td>3</td>\n",
       "      <td>female</td>\n",
       "      <td>26.0</td>\n",
       "      <td>0</td>\n",
       "      <td>0</td>\n",
       "      <td>7.9250</td>\n",
       "      <td>S</td>\n",
       "    </tr>\n",
       "    <tr>\n",
       "      <th>3</th>\n",
       "      <td>1</td>\n",
       "      <td>1</td>\n",
       "      <td>female</td>\n",
       "      <td>35.0</td>\n",
       "      <td>1</td>\n",
       "      <td>0</td>\n",
       "      <td>53.1000</td>\n",
       "      <td>S</td>\n",
       "    </tr>\n",
       "    <tr>\n",
       "      <th>4</th>\n",
       "      <td>0</td>\n",
       "      <td>3</td>\n",
       "      <td>male</td>\n",
       "      <td>35.0</td>\n",
       "      <td>0</td>\n",
       "      <td>0</td>\n",
       "      <td>8.0500</td>\n",
       "      <td>S</td>\n",
       "    </tr>\n",
       "  </tbody>\n",
       "</table>\n",
       "</div>"
      ],
      "text/plain": [
       "   Survived  Pclass     Sex   Age  SibSp  Parch     Fare Embarked\n",
       "0         0       3    male  22.0      1      0   7.2500        S\n",
       "1         1       1  female  38.0      1      0  71.2833        C\n",
       "2         1       3  female  26.0      0      0   7.9250        S\n",
       "3         1       1  female  35.0      1      0  53.1000        S\n",
       "4         0       3    male  35.0      0      0   8.0500        S"
      ]
     },
     "execution_count": 7,
     "metadata": {},
     "output_type": "execute_result"
    }
   ],
   "source": [
    "# Clean data of features that are not useful for modeling\n",
    "df1 = data.drop(['PassengerId', 'Name', 'Cabin', 'Ticket'], axis=1)\n",
    "df1.head()"
   ]
  },
  {
   "cell_type": "markdown",
   "id": "ebdd2b6e-08c2-4185-be90-854720fdd809",
   "metadata": {},
   "source": [
    "As described above, PassengerId is just a numeric value in the range of 1 to 891. This index is irrelevant for modeling.\n",
    "<br> Passenger Name is also not relevant feature it could not have possibility influenced their survivability\n",
    "<br> Cabin was dropped because it has a significantly large number of null values. This could be a valuable feature as the position of a cabin could influence access to escape routes or life boats. However, given that 77% of this information is missing, any form of data engineering would just be creating artifical data that can significant skew the machine learning model.\n",
    "<br> Similarly, ticket number would not also have an impact of survivability"
   ]
  },
  {
   "cell_type": "code",
   "execution_count": 8,
   "id": "b1b15156-70b9-48f0-ac32-9064fb800b59",
   "metadata": {},
   "outputs": [
    {
     "name": "stdout",
     "output_type": "stream",
     "text": [
      "<class 'pandas.core.frame.DataFrame'>\n",
      "RangeIndex: 891 entries, 0 to 890\n",
      "Data columns (total 8 columns):\n",
      " #   Column    Non-Null Count  Dtype  \n",
      "---  ------    --------------  -----  \n",
      " 0   Survived  891 non-null    int64  \n",
      " 1   Pclass    891 non-null    int64  \n",
      " 2   Sex       891 non-null    object \n",
      " 3   Age       714 non-null    float64\n",
      " 4   SibSp     891 non-null    int64  \n",
      " 5   Parch     891 non-null    int64  \n",
      " 6   Fare      891 non-null    float64\n",
      " 7   Embarked  889 non-null    object \n",
      "dtypes: float64(2), int64(4), object(2)\n",
      "memory usage: 55.8+ KB\n"
     ]
    }
   ],
   "source": [
    "df1.info()"
   ]
  },
  {
   "cell_type": "markdown",
   "id": "f7b371f5-6032-4822-bac5-fb0b6634b8f7",
   "metadata": {},
   "source": [
    "### Impute Embarked Data"
   ]
  },
  {
   "cell_type": "code",
   "execution_count": 9,
   "id": "5b87fb0c-ddef-452d-913b-b667f4b2345f",
   "metadata": {},
   "outputs": [
    {
     "data": {
      "text/plain": [
       "S    644\n",
       "C    168\n",
       "Q     77\n",
       "Name: Embarked, dtype: int64"
      ]
     },
     "execution_count": 9,
     "metadata": {},
     "output_type": "execute_result"
    }
   ],
   "source": [
    "# Imputing Data\n",
    "df1['Embarked'].value_counts()"
   ]
  },
  {
   "cell_type": "code",
   "execution_count": 10,
   "id": "b7d62611-5d96-4430-96d0-c2dac9ef56ca",
   "metadata": {},
   "outputs": [
    {
     "name": "stdout",
     "output_type": "stream",
     "text": [
      "<class 'pandas.core.frame.DataFrame'>\n",
      "RangeIndex: 891 entries, 0 to 890\n",
      "Data columns (total 8 columns):\n",
      " #   Column    Non-Null Count  Dtype  \n",
      "---  ------    --------------  -----  \n",
      " 0   Survived  891 non-null    int64  \n",
      " 1   Pclass    891 non-null    int64  \n",
      " 2   Sex       891 non-null    object \n",
      " 3   Age       714 non-null    float64\n",
      " 4   SibSp     891 non-null    int64  \n",
      " 5   Parch     891 non-null    int64  \n",
      " 6   Fare      891 non-null    float64\n",
      " 7   Embarked  891 non-null    object \n",
      "dtypes: float64(2), int64(4), object(2)\n",
      "memory usage: 55.8+ KB\n"
     ]
    }
   ],
   "source": [
    "df1['Embarked'].fillna('S', inplace=True)\n",
    "df1.info()"
   ]
  },
  {
   "cell_type": "markdown",
   "id": "194eeb84-1601-4954-949e-54ab49755d00",
   "metadata": {},
   "source": [
    "Embarked could have an influence on survivability. Since we do not have any knowledge on the criteria used by crew to assign cabins. We can assume that the port of embarkation might have an impact on survivability considering that the cabins within a particular class were assigned sequentially from front to back or vice-versa. So the 2 missing values were filled with port of Southampton because it was the boarding point where most passengers embarked."
   ]
  },
  {
   "cell_type": "markdown",
   "id": "2ae6a570-bb87-4618-8f71-45b57b332854",
   "metadata": {},
   "source": [
    "### Impute Age"
   ]
  },
  {
   "cell_type": "code",
   "execution_count": 11,
   "id": "f410bba6-d9d6-40eb-9104-4ab57c8bdd5b",
   "metadata": {},
   "outputs": [
    {
     "name": "stdout",
     "output_type": "stream",
     "text": [
      "       Survived        Age\n",
      "Parch                     \n",
      "0      0.343658  32.178503\n",
      "1      0.550847  24.422000\n",
      "2      0.500000  17.216912\n",
      "3      0.600000  33.200000\n",
      "4      0.000000  44.500000\n",
      "5      0.200000  39.200000\n",
      "6      0.000000  43.000000\n"
     ]
    },
    {
     "data": {
      "image/png": "[encoded data removed]",
      "text/plain": [
       "<Figure size 432x288 with 1 Axes>"
      ]
     },
     "metadata": {
      "needs_background": "light"
     },
     "output_type": "display_data"
    }
   ],
   "source": [
    "# Box plots\n",
    "sns.boxplot(x='Parch', y='Age', data=df1)\n",
    "print(df1.groupby(df1['Parch'])[['Survived', 'Age']].mean())"
   ]
  },
  {
   "cell_type": "markdown",
   "id": "ca78e2a2-fee4-46ce-8491-cf121b09ca03",
   "metadata": {},
   "source": [
    "Age is missing about 20% of the data. Although this is large, it is not advisable to remove age as it can have a very significant impact of survivability. For example, older people might struggle to get to the exists. Similarly, the bigger the family size, lower is the chance since it might take longer to rally up the family together towards exists.\n",
    "<br>\n",
    "<br>Parch variable indicates the number of Parents / Children aboard. The above boxplot and statistics is a good metric. This shows that people with fewer parents / children aboard are more likely to survive. Missing ages can be replaced with mean age based on Parch. Although this is not perfect, it is a good approximation. "
   ]
  },
  {
   "cell_type": "code",
   "execution_count": 12,
   "id": "410ae615-07e6-4385-8a7f-ed9762f1d8ff",
   "metadata": {},
   "outputs": [],
   "source": [
    "# Function for age\n",
    "def ageimpute(val):\n",
    "    age   = val[0]\n",
    "    parch = val[1]\n",
    "    \n",
    "    # dictionary with mean ages\n",
    "    # first value is Parch\n",
    "    # Second is mean age\n",
    "    impage = {0: 32., 1: 24., 2: 17., 3: 33., 4: 45., 5: 39., 6: 43.}\n",
    "    \n",
    "    if pd.isnull(age):\n",
    "        return impage[parch]\n",
    "    \n",
    "    else:\n",
    "        return age"
   ]
  },
  {
   "cell_type": "code",
   "execution_count": 13,
   "id": "ae717c12-e8d3-432f-a071-5b231bbd836f",
   "metadata": {},
   "outputs": [
    {
     "data": {
      "text/plain": [
       "Survived    0\n",
       "Pclass      0\n",
       "Sex         0\n",
       "Age         0\n",
       "SibSp       0\n",
       "Parch       0\n",
       "Fare        0\n",
       "Embarked    0\n",
       "dtype: int64"
      ]
     },
     "execution_count": 13,
     "metadata": {},
     "output_type": "execute_result"
    }
   ],
   "source": [
    "# Impute age\n",
    "df1['Age'] = df1[['Age', 'Parch']].apply(ageimpute, axis=1)\n",
    "\n",
    "# Check if null values are present\n",
    "df1.isnull().sum()"
   ]
  },
  {
   "cell_type": "markdown",
   "id": "b06aca4d-8df0-47aa-afba-607bffbd639e",
   "metadata": {},
   "source": [
    "### Convert object to numeric features\n",
    "#### Convert gender to numeric values using Label Encoder"
   ]
  },
  {
   "cell_type": "code",
   "execution_count": 14,
   "id": "f3ef7e21-84de-4aca-a353-f5f4d634a0bd",
   "metadata": {},
   "outputs": [
    {
     "data": {
      "text/html": [
       "<div>\n",
       "<style scoped>\n",
       "    .dataframe tbody tr th:only-of-type {\n",
       "        vertical-align: middle;\n",
       "    }\n",
       "\n",
       "    .dataframe tbody tr th {\n",
       "        vertical-align: top;\n",
       "    }\n",
       "\n",
       "    .dataframe thead th {\n",
       "        text-align: right;\n",
       "    }\n",
       "</style>\n",
       "<table border=\"1\" class=\"dataframe\">\n",
       "  <thead>\n",
       "    <tr style=\"text-align: right;\">\n",
       "      <th></th>\n",
       "      <th>Survived</th>\n",
       "      <th>Pclass</th>\n",
       "      <th>Sex</th>\n",
       "      <th>Age</th>\n",
       "      <th>SibSp</th>\n",
       "      <th>Parch</th>\n",
       "      <th>Fare</th>\n",
       "      <th>Embarked</th>\n",
       "    </tr>\n",
       "  </thead>\n",
       "  <tbody>\n",
       "    <tr>\n",
       "      <th>0</th>\n",
       "      <td>0</td>\n",
       "      <td>3</td>\n",
       "      <td>male</td>\n",
       "      <td>22.0</td>\n",
       "      <td>1</td>\n",
       "      <td>0</td>\n",
       "      <td>7.2500</td>\n",
       "      <td>S</td>\n",
       "    </tr>\n",
       "    <tr>\n",
       "      <th>1</th>\n",
       "      <td>1</td>\n",
       "      <td>1</td>\n",
       "      <td>female</td>\n",
       "      <td>38.0</td>\n",
       "      <td>1</td>\n",
       "      <td>0</td>\n",
       "      <td>71.2833</td>\n",
       "      <td>C</td>\n",
       "    </tr>\n",
       "    <tr>\n",
       "      <th>2</th>\n",
       "      <td>1</td>\n",
       "      <td>3</td>\n",
       "      <td>female</td>\n",
       "      <td>26.0</td>\n",
       "      <td>0</td>\n",
       "      <td>0</td>\n",
       "      <td>7.9250</td>\n",
       "      <td>S</td>\n",
       "    </tr>\n",
       "    <tr>\n",
       "      <th>3</th>\n",
       "      <td>1</td>\n",
       "      <td>1</td>\n",
       "      <td>female</td>\n",
       "      <td>35.0</td>\n",
       "      <td>1</td>\n",
       "      <td>0</td>\n",
       "      <td>53.1000</td>\n",
       "      <td>S</td>\n",
       "    </tr>\n",
       "    <tr>\n",
       "      <th>4</th>\n",
       "      <td>0</td>\n",
       "      <td>3</td>\n",
       "      <td>male</td>\n",
       "      <td>35.0</td>\n",
       "      <td>0</td>\n",
       "      <td>0</td>\n",
       "      <td>8.0500</td>\n",
       "      <td>S</td>\n",
       "    </tr>\n",
       "  </tbody>\n",
       "</table>\n",
       "</div>"
      ],
      "text/plain": [
       "   Survived  Pclass     Sex   Age  SibSp  Parch     Fare Embarked\n",
       "0         0       3    male  22.0      1      0   7.2500        S\n",
       "1         1       1  female  38.0      1      0  71.2833        C\n",
       "2         1       3  female  26.0      0      0   7.9250        S\n",
       "3         1       1  female  35.0      1      0  53.1000        S\n",
       "4         0       3    male  35.0      0      0   8.0500        S"
      ]
     },
     "execution_count": 14,
     "metadata": {},
     "output_type": "execute_result"
    }
   ],
   "source": [
    "df1.head()"
   ]
  },
  {
   "cell_type": "code",
   "execution_count": 15,
   "id": "305e4a16-e6ae-4d61-a0f9-ab9ce162ee77",
   "metadata": {},
   "outputs": [
    {
     "data": {
      "text/plain": [
       "array([1, 0, 0, 0, 1])"
      ]
     },
     "execution_count": 15,
     "metadata": {},
     "output_type": "execute_result"
    }
   ],
   "source": [
    "# Encode Sex\n",
    "sex_encoded = LabelEncoder().fit_transform(df1['Sex'])\n",
    "sex_encoded[:5]"
   ]
  },
  {
   "cell_type": "code",
   "execution_count": 16,
   "id": "c3cbe8bc-ba92-45f6-be94-5e6d780deea6",
   "metadata": {},
   "outputs": [
    {
     "data": {
      "text/html": [
       "<div>\n",
       "<style scoped>\n",
       "    .dataframe tbody tr th:only-of-type {\n",
       "        vertical-align: middle;\n",
       "    }\n",
       "\n",
       "    .dataframe tbody tr th {\n",
       "        vertical-align: top;\n",
       "    }\n",
       "\n",
       "    .dataframe thead th {\n",
       "        text-align: right;\n",
       "    }\n",
       "</style>\n",
       "<table border=\"1\" class=\"dataframe\">\n",
       "  <thead>\n",
       "    <tr style=\"text-align: right;\">\n",
       "      <th></th>\n",
       "      <th>Survived</th>\n",
       "      <th>Pclass</th>\n",
       "      <th>male</th>\n",
       "      <th>Age</th>\n",
       "      <th>SibSp</th>\n",
       "      <th>Parch</th>\n",
       "      <th>Fare</th>\n",
       "      <th>Embarked</th>\n",
       "    </tr>\n",
       "  </thead>\n",
       "  <tbody>\n",
       "    <tr>\n",
       "      <th>0</th>\n",
       "      <td>0</td>\n",
       "      <td>3</td>\n",
       "      <td>1</td>\n",
       "      <td>22.0</td>\n",
       "      <td>1</td>\n",
       "      <td>0</td>\n",
       "      <td>7.2500</td>\n",
       "      <td>S</td>\n",
       "    </tr>\n",
       "    <tr>\n",
       "      <th>1</th>\n",
       "      <td>1</td>\n",
       "      <td>1</td>\n",
       "      <td>0</td>\n",
       "      <td>38.0</td>\n",
       "      <td>1</td>\n",
       "      <td>0</td>\n",
       "      <td>71.2833</td>\n",
       "      <td>C</td>\n",
       "    </tr>\n",
       "    <tr>\n",
       "      <th>2</th>\n",
       "      <td>1</td>\n",
       "      <td>3</td>\n",
       "      <td>0</td>\n",
       "      <td>26.0</td>\n",
       "      <td>0</td>\n",
       "      <td>0</td>\n",
       "      <td>7.9250</td>\n",
       "      <td>S</td>\n",
       "    </tr>\n",
       "    <tr>\n",
       "      <th>3</th>\n",
       "      <td>1</td>\n",
       "      <td>1</td>\n",
       "      <td>0</td>\n",
       "      <td>35.0</td>\n",
       "      <td>1</td>\n",
       "      <td>0</td>\n",
       "      <td>53.1000</td>\n",
       "      <td>S</td>\n",
       "    </tr>\n",
       "    <tr>\n",
       "      <th>4</th>\n",
       "      <td>0</td>\n",
       "      <td>3</td>\n",
       "      <td>1</td>\n",
       "      <td>35.0</td>\n",
       "      <td>0</td>\n",
       "      <td>0</td>\n",
       "      <td>8.0500</td>\n",
       "      <td>S</td>\n",
       "    </tr>\n",
       "  </tbody>\n",
       "</table>\n",
       "</div>"
      ],
      "text/plain": [
       "   Survived  Pclass  male   Age  SibSp  Parch     Fare Embarked\n",
       "0         0       3     1  22.0      1      0   7.2500        S\n",
       "1         1       1     0  38.0      1      0  71.2833        C\n",
       "2         1       3     0  26.0      0      0   7.9250        S\n",
       "3         1       1     0  35.0      1      0  53.1000        S\n",
       "4         0       3     1  35.0      0      0   8.0500        S"
      ]
     },
     "execution_count": 16,
     "metadata": {},
     "output_type": "execute_result"
    }
   ],
   "source": [
    "# Since 0=female and 1=male\n",
    "# Rename column\n",
    "df1 = df1.rename(columns={'Sex': 'male'})\n",
    "\n",
    "# Fill with encoded values\n",
    "df1['male'] = sex_encoded\n",
    "df1.head()"
   ]
  },
  {
   "cell_type": "markdown",
   "id": "0c5882ea-58c8-4722-b5c3-3ef3fc1d42f0",
   "metadata": {},
   "source": [
    "#### Convert Embarked to categories using One Hot Encoder"
   ]
  },
  {
   "cell_type": "code",
   "execution_count": 17,
   "id": "fe298d72-b024-4f89-b2b4-54092c63c39c",
   "metadata": {},
   "outputs": [
    {
     "data": {
      "text/plain": [
       "array([2, 0, 2, 2, 2, 1, 2, 2, 2, 0])"
      ]
     },
     "execution_count": 17,
     "metadata": {},
     "output_type": "execute_result"
    }
   ],
   "source": [
    "# Encode Embarked labels\n",
    "embark_encoded = LabelEncoder().fit_transform(df1['Embarked'])\n",
    "embark_encoded[:10]"
   ]
  },
  {
   "cell_type": "code",
   "execution_count": 18,
   "id": "7a256121-c41c-4b44-b817-4797bcd91d52",
   "metadata": {},
   "outputs": [
    {
     "data": {
      "text/plain": [
       "array([[0., 0., 1.],\n",
       "       [1., 0., 0.],\n",
       "       [0., 0., 1.]])"
      ]
     },
     "execution_count": 18,
     "metadata": {},
     "output_type": "execute_result"
    }
   ],
   "source": [
    "# Convert numeric values to binary values\n",
    "embark_1hot = OneHotEncoder(categories='auto').fit_transform(embark_encoded.reshape(-1, 1))\n",
    "\n",
    "# Convert from sparse matrix to array\n",
    "embark_1hot = embark_1hot.toarray()\n",
    "embark_1hot[:3]"
   ]
  },
  {
   "cell_type": "code",
   "execution_count": 19,
   "id": "ea58fe9c-30fe-48af-a1d7-0b169fbdaf30",
   "metadata": {},
   "outputs": [
    {
     "data": {
      "text/html": [
       "<div>\n",
       "<style scoped>\n",
       "    .dataframe tbody tr th:only-of-type {\n",
       "        vertical-align: middle;\n",
       "    }\n",
       "\n",
       "    .dataframe tbody tr th {\n",
       "        vertical-align: top;\n",
       "    }\n",
       "\n",
       "    .dataframe thead th {\n",
       "        text-align: right;\n",
       "    }\n",
       "</style>\n",
       "<table border=\"1\" class=\"dataframe\">\n",
       "  <thead>\n",
       "    <tr style=\"text-align: right;\">\n",
       "      <th></th>\n",
       "      <th>C</th>\n",
       "      <th>Q</th>\n",
       "      <th>S</th>\n",
       "    </tr>\n",
       "  </thead>\n",
       "  <tbody>\n",
       "    <tr>\n",
       "      <th>0</th>\n",
       "      <td>0.0</td>\n",
       "      <td>0.0</td>\n",
       "      <td>1.0</td>\n",
       "    </tr>\n",
       "    <tr>\n",
       "      <th>1</th>\n",
       "      <td>1.0</td>\n",
       "      <td>0.0</td>\n",
       "      <td>0.0</td>\n",
       "    </tr>\n",
       "    <tr>\n",
       "      <th>2</th>\n",
       "      <td>0.0</td>\n",
       "      <td>0.0</td>\n",
       "      <td>1.0</td>\n",
       "    </tr>\n",
       "    <tr>\n",
       "      <th>3</th>\n",
       "      <td>0.0</td>\n",
       "      <td>0.0</td>\n",
       "      <td>1.0</td>\n",
       "    </tr>\n",
       "    <tr>\n",
       "      <th>4</th>\n",
       "      <td>0.0</td>\n",
       "      <td>0.0</td>\n",
       "      <td>1.0</td>\n",
       "    </tr>\n",
       "  </tbody>\n",
       "</table>\n",
       "</div>"
      ],
      "text/plain": [
       "     C    Q    S\n",
       "0  0.0  0.0  1.0\n",
       "1  1.0  0.0  0.0\n",
       "2  0.0  0.0  1.0\n",
       "3  0.0  0.0  1.0\n",
       "4  0.0  0.0  1.0"
      ]
     },
     "execution_count": 19,
     "metadata": {},
     "output_type": "execute_result"
    }
   ],
   "source": [
    "# convert to dataframe\n",
    "embark_1hot_df = pd.DataFrame(embark_1hot, columns=['C', 'Q', 'S'])\n",
    "embark_1hot_df.head()"
   ]
  },
  {
   "cell_type": "code",
   "execution_count": 20,
   "id": "014d15db-2fab-4e68-a384-5b01a3913c59",
   "metadata": {},
   "outputs": [
    {
     "name": "stdout",
     "output_type": "stream",
     "text": [
      "   Survived  Pclass  male   Age  SibSp  Parch     Fare    C    Q    S\n",
      "0         0       3     1  22.0      1      0   7.2500  0.0  0.0  1.0\n",
      "1         1       1     0  38.0      1      0  71.2833  1.0  0.0  0.0\n",
      "2         1       3     0  26.0      0      0   7.9250  0.0  0.0  1.0\n",
      "3         1       1     0  35.0      1      0  53.1000  0.0  0.0  1.0\n",
      "4         0       3     1  35.0      0      0   8.0500  0.0  0.0  1.0\n",
      "<class 'pandas.core.frame.DataFrame'>\n",
      "RangeIndex: 891 entries, 0 to 890\n",
      "Data columns (total 10 columns):\n",
      " #   Column    Non-Null Count  Dtype  \n",
      "---  ------    --------------  -----  \n",
      " 0   Survived  891 non-null    int64  \n",
      " 1   Pclass    891 non-null    int64  \n",
      " 2   male      891 non-null    int64  \n",
      " 3   Age       891 non-null    float64\n",
      " 4   SibSp     891 non-null    int64  \n",
      " 5   Parch     891 non-null    int64  \n",
      " 6   Fare      891 non-null    float64\n",
      " 7   C         891 non-null    float64\n",
      " 8   Q         891 non-null    float64\n",
      " 9   S         891 non-null    float64\n",
      "dtypes: float64(5), int64(5)\n",
      "memory usage: 69.7 KB\n",
      "None\n"
     ]
    }
   ],
   "source": [
    "# combine data frames and drop Embarked from old dataframe\n",
    "df2 = pd.concat([df1.drop(['Embarked'], axis=1), embark_1hot_df], axis=1)\n",
    "print(df2.head())\n",
    "print(df2.info())"
   ]
  },
  {
   "cell_type": "markdown",
   "id": "a82322e5-2005-462c-bd32-ee502f6613f3",
   "metadata": {},
   "source": [
    "## Synthesis\n",
    "The titanic dataset was analysed and features that do not have relevance to predict the survivability of a passenger were deleted. Furthermore, missing data was imputed in the Age feature as this is likely a very important feature for prediction. Object features that could impact survivability were encoded to binary features that are easy to work with for modeling.\n",
    "<br> The final dataset 'DF2' is cleaned and prepped for modeling\n",
    "<br> There is no missing data. Categorical data has also been converted to a usable format"
   ]
  },
  {
   "cell_type": "code",
   "execution_count": 21,
   "id": "81ec0f8e-1d15-4d89-8328-2175fab8619a",
   "metadata": {},
   "outputs": [
    {
     "data": {
      "text/plain": [
       "<AxesSubplot:>"
      ]
     },
     "execution_count": 21,
     "metadata": {},
     "output_type": "execute_result"
    },
    {
     "data": {
      "image/png": "[encoded data removed]",
      "text/plain": [
       "<Figure size 432x288 with 2 Axes>"
      ]
     },
     "metadata": {
      "needs_background": "light"
     },
     "output_type": "display_data"
    }
   ],
   "source": [
    "sns.heatmap(df2.corr())"
   ]
  },
  {
   "cell_type": "markdown",
   "id": "38a7eddc-6eb0-4541-88a2-5a8587135731",
   "metadata": {},
   "source": [
    "The goal of the modeling would be to predict survivability given other parameters. The top row of the correlation heat map shows how survivability is correlated with other parameters. It can be inferred that Survivability is negatively correlated with male gender. This means that a female is more likely to survive. On the other hand, Fare is slightly positively correlated with survivability. Although this needs to be interpreted with a grain of salt because, Pclass is slightly negatively correlated."
   ]
  },
  {
   "cell_type": "markdown",
   "id": "ebefe462-2aa7-45d0-bbc2-d8a185cc1a08",
   "metadata": {},
   "source": [
    "## Hypothesis Testing\n",
    "Based on the above observations, 3 possible hypotheses can be formulated:\n",
    "1. Fare that a passenger paid influenced survivability\n",
    "2. Passenger class did not influence survivability\n",
    "3. Younger passengers are likely to survive\n",
    "4. Female passengers are more likely to survive\n",
    "\n",
    "These are just a few example of hypotheses that can be tested with this dataset. Both 1st and 2nd hypotheses could be similar because higher fare usually means higher class.\n",
    "<br> As an example of statistical testing, the focus will be on the 2nd hypothesis.\n",
    "<br>\n",
    "### Hypothesis\n",
    "The focus is on survivability based on passenger class"
   ]
  },
  {
   "cell_type": "code",
   "execution_count": 22,
   "id": "ba8e02a2-3e5e-407a-bd4f-cb83d9c3baa5",
   "metadata": {},
   "outputs": [
    {
     "data": {
      "text/html": [
       "<div>\n",
       "<style scoped>\n",
       "    .dataframe tbody tr th:only-of-type {\n",
       "        vertical-align: middle;\n",
       "    }\n",
       "\n",
       "    .dataframe tbody tr th {\n",
       "        vertical-align: top;\n",
       "    }\n",
       "\n",
       "    .dataframe thead th {\n",
       "        text-align: right;\n",
       "    }\n",
       "</style>\n",
       "<table border=\"1\" class=\"dataframe\">\n",
       "  <thead>\n",
       "    <tr style=\"text-align: right;\">\n",
       "      <th></th>\n",
       "      <th>Survived</th>\n",
       "    </tr>\n",
       "    <tr>\n",
       "      <th>Pclass</th>\n",
       "      <th></th>\n",
       "    </tr>\n",
       "  </thead>\n",
       "  <tbody>\n",
       "    <tr>\n",
       "      <th>1</th>\n",
       "      <td>216</td>\n",
       "    </tr>\n",
       "    <tr>\n",
       "      <th>2</th>\n",
       "      <td>184</td>\n",
       "    </tr>\n",
       "    <tr>\n",
       "      <th>3</th>\n",
       "      <td>491</td>\n",
       "    </tr>\n",
       "  </tbody>\n",
       "</table>\n",
       "</div>"
      ],
      "text/plain": [
       "        Survived\n",
       "Pclass          \n",
       "1            216\n",
       "2            184\n",
       "3            491"
      ]
     },
     "execution_count": 22,
     "metadata": {},
     "output_type": "execute_result"
    }
   ],
   "source": [
    "# Create subset for analysis\n",
    "dfstat = df2[['Pclass', 'Survived']]\n",
    "\n",
    "# Size of each class\n",
    "dfstat.groupby('Pclass').count()"
   ]
  },
  {
   "cell_type": "code",
   "execution_count": 23,
   "id": "97206f39-ecad-403e-a0ae-5b8f3aec22cb",
   "metadata": {},
   "outputs": [
    {
     "data": {
      "text/html": [
       "<div>\n",
       "<style scoped>\n",
       "    .dataframe tbody tr th:only-of-type {\n",
       "        vertical-align: middle;\n",
       "    }\n",
       "\n",
       "    .dataframe tbody tr th {\n",
       "        vertical-align: top;\n",
       "    }\n",
       "\n",
       "    .dataframe thead th {\n",
       "        text-align: right;\n",
       "    }\n",
       "</style>\n",
       "<table border=\"1\" class=\"dataframe\">\n",
       "  <thead>\n",
       "    <tr style=\"text-align: right;\">\n",
       "      <th></th>\n",
       "      <th>Survived</th>\n",
       "    </tr>\n",
       "    <tr>\n",
       "      <th>Pclass</th>\n",
       "      <th></th>\n",
       "    </tr>\n",
       "  </thead>\n",
       "  <tbody>\n",
       "    <tr>\n",
       "      <th>1</th>\n",
       "      <td>0.629630</td>\n",
       "    </tr>\n",
       "    <tr>\n",
       "      <th>2</th>\n",
       "      <td>0.472826</td>\n",
       "    </tr>\n",
       "    <tr>\n",
       "      <th>3</th>\n",
       "      <td>0.242363</td>\n",
       "    </tr>\n",
       "  </tbody>\n",
       "</table>\n",
       "</div>"
      ],
      "text/plain": [
       "        Survived\n",
       "Pclass          \n",
       "1       0.629630\n",
       "2       0.472826\n",
       "3       0.242363"
      ]
     },
     "execution_count": 23,
     "metadata": {},
     "output_type": "execute_result"
    }
   ],
   "source": [
    "# Mean survivability by class\n",
    "dfstat.groupby('Pclass').mean()"
   ]
  },
  {
   "cell_type": "code",
   "execution_count": 24,
   "id": "3e55a077-d35a-4fed-bfd9-7ffca07609b1",
   "metadata": {},
   "outputs": [
    {
     "data": {
      "text/plain": [
       "<AxesSubplot:xlabel='Pclass'>"
      ]
     },
     "execution_count": 24,
     "metadata": {},
     "output_type": "execute_result"
    },
    {
     "data": {
      "image/png": "[encoded data removed]",
      "text/plain": [
       "<Figure size 432x288 with 1 Axes>"
      ]
     },
     "metadata": {
      "needs_background": "light"
     },
     "output_type": "display_data"
    }
   ],
   "source": [
    "dfstat.groupby('Pclass').mean().plot.bar()"
   ]
  },
  {
   "cell_type": "markdown",
   "id": "233011a4-edd2-431f-8806-74f5bfc80efd",
   "metadata": {},
   "source": [
    "This suggests that first class passengers have higher survivability rate. Therefore this hypothesis can be tested.\n",
    "#### Formulate Hypothesis\n",
    "Null Hypothesis: Passenger class did not influence survivability\n",
    "<br> Alternate Hypothesis: Passenger class did influence survivability\n",
    "<br>\n",
    "<br> To test this hypothesis, Z-test will be used.\n",
    "<br> Z-test is a statistical test that tests the mean of a distribution. Not going into the definition and explanation of the test itself, but rather focusing on the inference.\n",
    "<br> Here 100 samples of mean survivability are taken for each class. Since minimum population size is 184 for 2nd class, a good approximation for a smaller sample to calculate means is 30.\n",
    "<br>\n",
    "<br> Before calculating the statistic, significance level is set at P-value of 0.05\n",
    "<br> Therefore, if the computed P-value is less than 0.05, then null hypothesis can be rejected."
   ]
  },
  {
   "cell_type": "code",
   "execution_count": 25,
   "id": "08def053-b46b-4d4c-b321-bfa32d800e7a",
   "metadata": {},
   "outputs": [],
   "source": [
    "# Sample sets of mean survivability for each class\n",
    "Pclass1 = np.array([dfstat['Survived'][dfstat['Pclass']==1].sample(30).mean() for i in range(100)])\n",
    "\n",
    "Pclass2 = np.array([dfstat['Survived'][dfstat['Pclass']==2].sample(30).mean() for i in range(100)])\n",
    "\n",
    "Pclass3 = np.array([dfstat['Survived'][dfstat['Pclass']==3].sample(30).mean() for i in range(100)])"
   ]
  },
  {
   "cell_type": "code",
   "execution_count": 26,
   "id": "d2ab529b-3842-4b30-b4b4-5346c0e02af7",
   "metadata": {},
   "outputs": [
    {
     "data": {
      "image/png": "[encoded data removed]",
      "text/plain": [
       "<Figure size 1080x360 with 3 Axes>"
      ]
     },
     "metadata": {
      "needs_background": "light"
     },
     "output_type": "display_data"
    }
   ],
   "source": [
    "# Based on central limit theorem, this should be approximately normally distributed\n",
    "Pclass_df = pd.DataFrame(np.array([Pclass1, Pclass2, Pclass3]).T, columns=['Pclass1','Pclass2','Pclass3'])\n",
    "\n",
    "fig, (ax1, ax2, ax3) = plt.subplots(1, 3, figsize=(15, 5))\n",
    "for dat, ax, title in zip([Pclass1, Pclass2, Pclass3], [ax1, ax2, ax3], ['1st Class', '2nd Class', '3rd Class']):\n",
    "    sns.histplot(dat, kde=True, ax=ax)\n",
    "    ax.set_title(title)\n",
    "    ax.set_xlabel('Survival Rate')"
   ]
  },
  {
   "cell_type": "code",
   "execution_count": 27,
   "id": "b71bce6e-9251-4b62-b77b-f20c50b4558d",
   "metadata": {},
   "outputs": [
    {
     "name": "stdout",
     "output_type": "stream",
     "text": [
      "Classes 1 and 2\n",
      "Z-Statistic: 12.576705693769684\n",
      "P-value: 4.808365925976798e-27\n"
     ]
    }
   ],
   "source": [
    "# 1st class and 2nd class\n",
    "zstat, pvalue = stats.ttest_ind(Pclass1, Pclass2)\n",
    "print('Classes 1 and 2')\n",
    "print('Z-Statistic: {}'.format(zstat))\n",
    "print('P-value: {}'.format(pvalue))"
   ]
  },
  {
   "cell_type": "code",
   "execution_count": 28,
   "id": "16ffb8c3-35af-43e6-942d-b0eafcc0e857",
   "metadata": {},
   "outputs": [
    {
     "name": "stdout",
     "output_type": "stream",
     "text": [
      "Classes 1 and 3\n",
      "Z-Statistic: 32.3916189884874\n",
      "P-value: 4.589686051660905e-81\n"
     ]
    }
   ],
   "source": [
    "# 1st class and 3nd class\n",
    "zstat, pvalue = stats.ttest_ind(Pclass1, Pclass3)\n",
    "print('Classes 1 and 3')\n",
    "print('Z-Statistic: {}'.format(zstat))\n",
    "print('P-value: {}'.format(pvalue))"
   ]
  },
  {
   "cell_type": "code",
   "execution_count": 29,
   "id": "c09cb58f-6c34-468d-89e0-755514fff824",
   "metadata": {},
   "outputs": [
    {
     "name": "stdout",
     "output_type": "stream",
     "text": [
      "Classes 2 and 3\n",
      "Z-Statistic: 20.24263305538541\n",
      "P-value: 4.1466232228435705e-50\n"
     ]
    }
   ],
   "source": [
    "# 1st class and 2nd class\n",
    "zstat, pvalue = stats.ttest_ind(Pclass2, Pclass3)\n",
    "print('Classes 2 and 3')\n",
    "print('Z-Statistic: {}'.format(zstat))\n",
    "print('P-value: {}'.format(pvalue))"
   ]
  },
  {
   "cell_type": "markdown",
   "id": "c4443267-7834-41b9-82ea-e37c317bb6ef",
   "metadata": {},
   "source": [
    "#### Inference\n",
    "The statistical analysis can be summarized as below:\n",
    "<br> Class_1\n",
    "<br> Z-score:  12.93\n",
    "<br> P-value: 3.9e-28\n",
    "<br>\n",
    "<br> Class_2\n",
    "<br> Z-score:  33.66\n",
    "<br> P-value: 7.2e-84\n",
    "<br>\n",
    "<br> Class_3\n",
    "<br> Z-score:  19.79\n",
    "<br> P-value: 8.4e-49\n",
    "<br> The Z-score is quite high for all cases, and the P-value is significantly smaller than 0.05 that was set prior to the test.\n",
    "<br>\n",
    "<br> Therefore, we can conclude that the null hypothesis can be rejected. This means that in the given dataset, there is significant correlation between the passenger class of travel and their survivability rate. In other words, if we accept the null hypothesis, then the probability of observing that effect by random is very small. A general inference can be made that people in better class had higher survival rate but this does not establish any causation."
   ]
  },
  {
   "cell_type": "markdown",
   "id": "6bcd0359-fbfe-4554-ba51-2e4d6349a261",
   "metadata": {},
   "source": [
    "## Next Steps and conclusion\n",
    "More inferences can be deduced by studying different pairs of data. A statistical model can help identify dependent and independent variables in the dataset that could help with further data analysis and building a machine learning model.\n",
    "<br> The current dataset is of reasonable quality. However, since the data was probabily compiled from paper records, it is likely that there is some human error while inputing the data. Furthermore, this is just a sample dataset and a big assumption is that the data is a relatively true representation of all passengers on Titanic. As per historical records, there were 1317 passengers onboard, and the current data has only 891 records, that is about 67%. A fuller dataset with data that has been validated might be more useful. None the less, the current dataset is still a good starting point for analysis."
   ]
  },
  {
   "cell_type": "code",
   "execution_count": null,
   "id": "6d000c2d-3694-411c-85c6-e76763e2af74",
   "metadata": {},
   "outputs": [],
   "source": []
  }
 ],
 "metadata": {
  "kernelspec": {
   "display_name": "Python 3 (ipykernel)",
   "language": "python",
   "name": "python3"
  },
  "language_info": {
   "codemirror_mode": {
    "name": "ipython",
    "version": 3
   },
   "file_extension": ".py",
   "mimetype": "text/x-python",
   "name": "python",
   "nbconvert_exporter": "python",
   "pygments_lexer": "ipython3",
   "version": "3.9.7"
  }
 },
 "nbformat": 4,
 "nbformat_minor": 5
}
